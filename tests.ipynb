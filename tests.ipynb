{
 "cells": [
  {
   "cell_type": "code",
   "execution_count": null,
   "metadata": {},
   "outputs": [],
   "source": [
    "import pandas as pd\n",
    "import matplotlib.pyplot as plt\n",
    "\n",
    "# %matplotlib widget\n",
    "\n",
    "gravity = 9.81\n",
    "\n",
    "\n",
    "data_phone = pd.read_csv(\"data/phone_test_mag.csv\")\n",
    "\n",
    "# data = pd.read_csv(\"data/test.csv\")\n",
    "data_train = pd.read_csv(\"data/train.csv\")\n",
    "data = pd.read_csv(\"data/calib.csv\")\n",
    "# display(data.head())\n",
    "\n",
    "# Dane z akcelerometru w g -> m/s^2\n",
    "# data['AccX'] *= gravity\n",
    "# data['AccY'] *= gravity\n",
    "# data['AccZ'] *= gravity\n",
    "\n",
    "# fig1, ax1 = plt.subplots()\n",
    "# ax1.plot(data['Time'], data['AccX'], label=\"AccX\")\n",
    "# ax1.plot(data['Time'], data['AccY'], label=\"AccY\")\n",
    "# ax1.plot(data['Time'], data['AccZ'], label=\"AccZ\")\n",
    "# ax1.legend()\n",
    "\n",
    "\n",
    "fig2, ax2 = plt.subplots(1, 1, figsize=(10, 10), subplot_kw={'projection': '3d'})\n",
    "\n",
    "ax2.scatter(data['MagX'], data['MagY'], data['MagZ'], s=3, c=data['Id'], cmap='copper')\n",
    "fig2.tight_layout()\n",
    "plt.show()"
   ]
  },
  {
   "cell_type": "code",
   "execution_count": null,
   "metadata": {},
   "outputs": [],
   "source": [
    "fig3, ax3 = plt.subplots(1, 1, figsize=(10, 10), subplot_kw={'projection': '3d'})\n",
    "\n",
    "ax3.scatter(data['AccX'], data['AccY'], data['AccZ'], s=3, c=data['Id'], cmap='copper')\n",
    "ax3.set(xlabel='x', ylabel='y', zlabel='z')\n",
    "fig3.tight_layout()\n",
    "plt.show()"
   ]
  },
  {
   "cell_type": "code",
   "execution_count": null,
   "metadata": {},
   "outputs": [],
   "source": [
    "display(data_train.head())"
   ]
  },
  {
   "cell_type": "code",
   "execution_count": null,
   "metadata": {},
   "outputs": [],
   "source": [
    "\n",
    "fig1, axs1 = plt.subplots(3, 1, figsize=(15, 10))\n",
    "axs1[0].plot(data['GyroX'], label=\"GyroX\")\n",
    "axs1[0].plot(data['GyroY'], label=\"GyroY\")\n",
    "axs1[0].plot(data['GyroZ'], label=\"GyroZ\")\n",
    "axs1[0].legend()\n",
    "axs1[0].grid()\n",
    "axs1[1].plot(data['AccX'], label=\"AccX\")\n",
    "axs1[1].plot(data['AccY'], label=\"AccY\")\n",
    "axs1[1].plot(data['AccZ'], label=\"AccZ\")\n",
    "axs1[1].legend()\n",
    "axs1[1].grid()\n",
    "axs1[2].plot(data['MagX'], label=\"MagX\")\n",
    "axs1[2].plot(data['MagY'], label=\"MagY\")\n",
    "axs1[2].plot(data['MagZ'], label=\"MagZ\")\n",
    "axs1[2].legend()\n",
    "axs1[2].grid()\n",
    "fig1.tight_layout()\n",
    "plt.show()"
   ]
  },
  {
   "cell_type": "code",
   "execution_count": null,
   "metadata": {},
   "outputs": [],
   "source": [
    "data_phone.head()\n",
    "\n",
    "fig2, ax2 = plt.subplots(1, 1, figsize=(10, 10), subplot_kw={'projection': '3d'})\n",
    "\n",
    "ax2.scatter(data['MagX'], data['MagY'], data['MagZ'], s=3, c=data['Id'], cmap='copper')\n",
    "fig2.tight_layout()\n",
    "plt.show()"
   ]
  }
 ],
 "metadata": {
  "kernelspec": {
   "display_name": ".venv",
   "language": "python",
   "name": "python3"
  },
  "language_info": {
   "codemirror_mode": {
    "name": "ipython",
    "version": 3
   },
   "file_extension": ".py",
   "mimetype": "text/x-python",
   "name": "python",
   "nbconvert_exporter": "python",
   "pygments_lexer": "ipython3",
   "version": "3.13.0"
  }
 },
 "nbformat": 4,
 "nbformat_minor": 2
}
